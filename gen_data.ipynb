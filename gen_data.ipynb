{
 "cells": [
  {
   "cell_type": "code",
   "execution_count": 1,
   "id": "5ee5921a",
   "metadata": {},
   "outputs": [
    {
     "name": "stdout",
     "output_type": "stream",
     "text": [
      "✅ Saved 50 cafes to cafes.csv\n"
     ]
    }
   ],
   "source": [
    "import random\n",
    "import csv\n",
    "\n",
    "\n",
    "def generate_cafes(n):\n",
    "    cafes = []\n",
    "    for i in range(n):\n",
    "        cafe = {\n",
    "            \"id\": i,\n",
    "            \"name\": f\"Cafe_{i}\",\n",
    "            \"latitude\": round(random.uniform(25.02, 25.10), 6),\n",
    "            \"longitude\": round(random.uniform(121.50, 121.60), 6),\n",
    "            \"rating\": round(random.uniform(3.0, 5.0), 1),\n",
    "            \"current_crowd\": random.randint(0, 100)\n",
    "        }\n",
    "        cafes.append(cafe)\n",
    "    return cafes\n",
    "\n",
    "\n",
    "def save_to_csv(cafes, filename=\"cafes.csv\"):\n",
    "    fieldnames = [\"id\", \"name\", \"latitude\",\n",
    "                  \"longitude\", \"rating\", \"current_crowd\"]\n",
    "    with open(filename, \"w\", newline=\"\", encoding=\"utf-8\") as f:\n",
    "        writer = csv.DictWriter(f, fieldnames=fieldnames)\n",
    "        writer.writeheader()\n",
    "        writer.writerows(cafes)\n",
    "\n",
    "\n",
    "# 產生並儲存\n",
    "cafes = generate_cafes(100)\n",
    "save_to_csv(cafes)\n",
    "\n",
    "print(\"✅ Saved 50 cafes to cafes.csv\")"
   ]
  }
 ],
 "metadata": {
  "kernelspec": {
   "display_name": "base",
   "language": "python",
   "name": "python3"
  },
  "language_info": {
   "codemirror_mode": {
    "name": "ipython",
    "version": 3
   },
   "file_extension": ".py",
   "mimetype": "text/x-python",
   "name": "python",
   "nbconvert_exporter": "python",
   "pygments_lexer": "ipython3",
   "version": "3.11.7"
  }
 },
 "nbformat": 4,
 "nbformat_minor": 5
}
